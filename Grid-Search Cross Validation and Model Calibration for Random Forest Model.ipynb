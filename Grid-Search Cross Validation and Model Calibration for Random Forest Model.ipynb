{
 "cells": [
  {
   "cell_type": "markdown",
   "metadata": {},
   "source": [
    "# Brief:\n",
    "\n",
    "In this notebook, by using highly imbalanced credit card fraud data, we explore if Data Balancing or Model Calibration will help improve our Random Forest based classificaiton model.\n",
    "\n",
    "#### We demonstrated techniques listed below:\n",
    "\n",
    "    1. Grid Search for optimal random forest parameters\n",
    "    2. Confusion Matrix\n",
    "    3. Normalized Confusion Matrix (unbalanced test data)\n",
    "    4. Cross-validation Score + Testing Accuracy/F1 Score\n",
    "    5. Classification Report\n",
    "    6. Precison-Recall Curve\n",
    "    7. ROC and AUC\n",
    "    8. Calibration Curve/ Reliability Diagram\n",
    "    9. Calibrated Model improvement\n",
    "    \n",
    "\n",
    "#### Conclusion:\n",
    "\n",
    "In our randome forest model:\n",
    "    1. Grid-search Cross-Validation chose to use unbalanced training data and minimize entropy to come up a model with the     highest f1-score.\n",
    "    2. Calibrated model didn't improve calibration over test data\n",
    "    3. However, Calibrated model does bring better model performance by observing ROC curve and Precision-Recall curve\n",
    "Therefore, we will choose calibration to improve our Random Forest model performance\n"
   ]
  },
  {
   "cell_type": "code",
   "execution_count": null,
   "metadata": {},
   "outputs": [],
   "source": []
  },
  {
   "cell_type": "code",
   "execution_count": 116,
   "metadata": {},
   "outputs": [],
   "source": [
    "import pandas as pd\n",
    "import numpy as np\n",
    "\n",
    "\n",
    "from sklearn.preprocessing import StandardScaler\n",
    "from sklearn.metrics import f1_score\n",
    "\n",
    "\n",
    "from sklearn.linear_model import LogisticRegression\n",
    "from sklearn.ensemble import GradientBoostingClassifier,RandomForestClassifier\n",
    "\n",
    "\n",
    "from sklearn.model_selection import cross_val_predict,cross_val_score,train_test_split\n",
    "\n",
    "\n",
    "from sklearn.metrics import classification_report, confusion_matrix, roc_curve,auc, precision_recall_curve, roc_curve, roc_auc_score\n",
    "from sklearn.metrics import average_precision_score, f1_score\n",
    "\n",
    "import matplotlib.pyplot as plt\n",
    "\n",
    "from sklearn.calibration import CalibratedClassifierCV\n",
    "from sklearn.calibration import calibration_curve\n",
    "\n",
    "from sklearn.model_selection import GridSearchCV, RandomizedSearchCV\n",
    "\n"
   ]
  },
  {
   "cell_type": "code",
   "execution_count": 117,
   "metadata": {},
   "outputs": [],
   "source": [
    "creditcard = pd.read_csv('C:/Users/liuhu/Documents/Python/creditcard.csv')\n",
    "creditcard['hour'] = creditcard['Time'].apply(lambda x: np.ceil(float(x)/3600) % 24)"
   ]
  },
  {
   "cell_type": "code",
   "execution_count": 118,
   "metadata": {},
   "outputs": [
    {
     "data": {
      "text/html": [
       "<div>\n",
       "<style scoped>\n",
       "    .dataframe tbody tr th:only-of-type {\n",
       "        vertical-align: middle;\n",
       "    }\n",
       "\n",
       "    .dataframe tbody tr th {\n",
       "        vertical-align: top;\n",
       "    }\n",
       "\n",
       "    .dataframe thead th {\n",
       "        text-align: right;\n",
       "    }\n",
       "</style>\n",
       "<table border=\"1\" class=\"dataframe\">\n",
       "  <thead>\n",
       "    <tr style=\"text-align: right;\">\n",
       "      <th></th>\n",
       "      <th>Time</th>\n",
       "      <th>V1</th>\n",
       "      <th>V2</th>\n",
       "      <th>V3</th>\n",
       "      <th>V4</th>\n",
       "      <th>V5</th>\n",
       "      <th>V6</th>\n",
       "      <th>V7</th>\n",
       "      <th>V8</th>\n",
       "      <th>V9</th>\n",
       "      <th>...</th>\n",
       "      <th>V22</th>\n",
       "      <th>V23</th>\n",
       "      <th>V24</th>\n",
       "      <th>V25</th>\n",
       "      <th>V26</th>\n",
       "      <th>V27</th>\n",
       "      <th>V28</th>\n",
       "      <th>Amount</th>\n",
       "      <th>Class</th>\n",
       "      <th>hour</th>\n",
       "    </tr>\n",
       "  </thead>\n",
       "  <tbody>\n",
       "    <tr>\n",
       "      <th>0</th>\n",
       "      <td>0.0</td>\n",
       "      <td>-1.359807</td>\n",
       "      <td>-0.072781</td>\n",
       "      <td>2.536347</td>\n",
       "      <td>1.378155</td>\n",
       "      <td>-0.338321</td>\n",
       "      <td>0.462388</td>\n",
       "      <td>0.239599</td>\n",
       "      <td>0.098698</td>\n",
       "      <td>0.363787</td>\n",
       "      <td>...</td>\n",
       "      <td>0.277838</td>\n",
       "      <td>-0.110474</td>\n",
       "      <td>0.066928</td>\n",
       "      <td>0.128539</td>\n",
       "      <td>-0.189115</td>\n",
       "      <td>0.133558</td>\n",
       "      <td>-0.021053</td>\n",
       "      <td>149.62</td>\n",
       "      <td>0</td>\n",
       "      <td>0.0</td>\n",
       "    </tr>\n",
       "    <tr>\n",
       "      <th>1</th>\n",
       "      <td>0.0</td>\n",
       "      <td>1.191857</td>\n",
       "      <td>0.266151</td>\n",
       "      <td>0.166480</td>\n",
       "      <td>0.448154</td>\n",
       "      <td>0.060018</td>\n",
       "      <td>-0.082361</td>\n",
       "      <td>-0.078803</td>\n",
       "      <td>0.085102</td>\n",
       "      <td>-0.255425</td>\n",
       "      <td>...</td>\n",
       "      <td>-0.638672</td>\n",
       "      <td>0.101288</td>\n",
       "      <td>-0.339846</td>\n",
       "      <td>0.167170</td>\n",
       "      <td>0.125895</td>\n",
       "      <td>-0.008983</td>\n",
       "      <td>0.014724</td>\n",
       "      <td>2.69</td>\n",
       "      <td>0</td>\n",
       "      <td>0.0</td>\n",
       "    </tr>\n",
       "    <tr>\n",
       "      <th>2</th>\n",
       "      <td>1.0</td>\n",
       "      <td>-1.358354</td>\n",
       "      <td>-1.340163</td>\n",
       "      <td>1.773209</td>\n",
       "      <td>0.379780</td>\n",
       "      <td>-0.503198</td>\n",
       "      <td>1.800499</td>\n",
       "      <td>0.791461</td>\n",
       "      <td>0.247676</td>\n",
       "      <td>-1.514654</td>\n",
       "      <td>...</td>\n",
       "      <td>0.771679</td>\n",
       "      <td>0.909412</td>\n",
       "      <td>-0.689281</td>\n",
       "      <td>-0.327642</td>\n",
       "      <td>-0.139097</td>\n",
       "      <td>-0.055353</td>\n",
       "      <td>-0.059752</td>\n",
       "      <td>378.66</td>\n",
       "      <td>0</td>\n",
       "      <td>1.0</td>\n",
       "    </tr>\n",
       "    <tr>\n",
       "      <th>3</th>\n",
       "      <td>1.0</td>\n",
       "      <td>-0.966272</td>\n",
       "      <td>-0.185226</td>\n",
       "      <td>1.792993</td>\n",
       "      <td>-0.863291</td>\n",
       "      <td>-0.010309</td>\n",
       "      <td>1.247203</td>\n",
       "      <td>0.237609</td>\n",
       "      <td>0.377436</td>\n",
       "      <td>-1.387024</td>\n",
       "      <td>...</td>\n",
       "      <td>0.005274</td>\n",
       "      <td>-0.190321</td>\n",
       "      <td>-1.175575</td>\n",
       "      <td>0.647376</td>\n",
       "      <td>-0.221929</td>\n",
       "      <td>0.062723</td>\n",
       "      <td>0.061458</td>\n",
       "      <td>123.50</td>\n",
       "      <td>0</td>\n",
       "      <td>1.0</td>\n",
       "    </tr>\n",
       "    <tr>\n",
       "      <th>4</th>\n",
       "      <td>2.0</td>\n",
       "      <td>-1.158233</td>\n",
       "      <td>0.877737</td>\n",
       "      <td>1.548718</td>\n",
       "      <td>0.403034</td>\n",
       "      <td>-0.407193</td>\n",
       "      <td>0.095921</td>\n",
       "      <td>0.592941</td>\n",
       "      <td>-0.270533</td>\n",
       "      <td>0.817739</td>\n",
       "      <td>...</td>\n",
       "      <td>0.798278</td>\n",
       "      <td>-0.137458</td>\n",
       "      <td>0.141267</td>\n",
       "      <td>-0.206010</td>\n",
       "      <td>0.502292</td>\n",
       "      <td>0.219422</td>\n",
       "      <td>0.215153</td>\n",
       "      <td>69.99</td>\n",
       "      <td>0</td>\n",
       "      <td>1.0</td>\n",
       "    </tr>\n",
       "  </tbody>\n",
       "</table>\n",
       "<p>5 rows × 32 columns</p>\n",
       "</div>"
      ],
      "text/plain": [
       "   Time        V1        V2        V3        V4        V5        V6        V7  \\\n",
       "0   0.0 -1.359807 -0.072781  2.536347  1.378155 -0.338321  0.462388  0.239599   \n",
       "1   0.0  1.191857  0.266151  0.166480  0.448154  0.060018 -0.082361 -0.078803   \n",
       "2   1.0 -1.358354 -1.340163  1.773209  0.379780 -0.503198  1.800499  0.791461   \n",
       "3   1.0 -0.966272 -0.185226  1.792993 -0.863291 -0.010309  1.247203  0.237609   \n",
       "4   2.0 -1.158233  0.877737  1.548718  0.403034 -0.407193  0.095921  0.592941   \n",
       "\n",
       "         V8        V9  ...        V22       V23       V24       V25       V26  \\\n",
       "0  0.098698  0.363787  ...   0.277838 -0.110474  0.066928  0.128539 -0.189115   \n",
       "1  0.085102 -0.255425  ...  -0.638672  0.101288 -0.339846  0.167170  0.125895   \n",
       "2  0.247676 -1.514654  ...   0.771679  0.909412 -0.689281 -0.327642 -0.139097   \n",
       "3  0.377436 -1.387024  ...   0.005274 -0.190321 -1.175575  0.647376 -0.221929   \n",
       "4 -0.270533  0.817739  ...   0.798278 -0.137458  0.141267 -0.206010  0.502292   \n",
       "\n",
       "        V27       V28  Amount  Class  hour  \n",
       "0  0.133558 -0.021053  149.62      0   0.0  \n",
       "1 -0.008983  0.014724    2.69      0   0.0  \n",
       "2 -0.055353 -0.059752  378.66      0   1.0  \n",
       "3  0.062723  0.061458  123.50      0   1.0  \n",
       "4  0.219422  0.215153   69.99      0   1.0  \n",
       "\n",
       "[5 rows x 32 columns]"
      ]
     },
     "execution_count": 118,
     "metadata": {},
     "output_type": "execute_result"
    }
   ],
   "source": [
    "creditcard.head()"
   ]
  },
  {
   "cell_type": "code",
   "execution_count": 6,
   "metadata": {},
   "outputs": [],
   "source": [
    "# normalize/Standardize the \"Amount\", as its values are in very different scales to other Cols in the table. (tress based model may not need to do so)\n",
    "creditcard['Amount'] = StandardScaler().fit_transform(creditcard[['Amount']])  # standardize the col and apply change\n",
    "\n",
    "# However, in general Decision Trees requires very little data preparation. In particular, they don’t require feature scaling or centering at all."
   ]
  },
  {
   "cell_type": "code",
   "execution_count": 7,
   "metadata": {},
   "outputs": [],
   "source": [
    "# Prep training / testing tables\n",
    "\n",
    "target=creditcard['Class']\n",
    "features=creditcard.drop(['Class'], axis=1)\n",
    "\n",
    "x_train,x_test,y_train,y_test = train_test_split(features,target, stratify=target,test_size=0.35, random_state=1)"
   ]
  },
  {
   "cell_type": "code",
   "execution_count": 8,
   "metadata": {},
   "outputs": [],
   "source": [
    "# Let's store our y_test legit and fraud counts for confusion matrix normalization purposes later on\n",
    "y_test_legit = y_test.value_counts()[0]\n",
    "y_test_fraud = y_test.value_counts()[1]"
   ]
  },
  {
   "cell_type": "code",
   "execution_count": null,
   "metadata": {},
   "outputs": [],
   "source": []
  },
  {
   "cell_type": "markdown",
   "metadata": {},
   "source": [
    "# Random Forest Model"
   ]
  },
  {
   "cell_type": "markdown",
   "metadata": {},
   "source": [
    "1. Grid Search for optimal random forest parameters\n",
    "    1. Side Topic: Feature Importance\n",
    "2. Confusion Matrix\n",
    "3. Normalized Confusion Matrix (unbalanced test data)\n",
    "4. Cross-validation Score + Testing Accuracy/F1 Score \n",
    "5. Classification Report\n",
    "6. Precison-Recall Curve\n",
    "7. ROC and AUC\n",
    "8. Calibration Curve/ Reliability Diagram\n",
    "\n",
    "9. Calibrated Model improvement"
   ]
  },
  {
   "cell_type": "code",
   "execution_count": 113,
   "metadata": {},
   "outputs": [
    {
     "name": "stdout",
     "output_type": "stream",
     "text": [
      "{'class_weight': None, 'criterion': 'entropy', 'max_depth': 13}\n",
      "0.852572038654695\n"
     ]
    }
   ],
   "source": [
    "forest = RandomForestClassifier(n_estimators=50, random_state=2) # 50 trees\n",
    "\n",
    "param_grid={'max_depth':np.arange(5,15), 'criterion':['gini','entropy'], 'class_weight':['balanced', None]} # np.arange excludes 'end'\n",
    "\n",
    "tree_CV=GridSearchCV(forest, param_grid, scoring='f1', cv=5) # RandomizedSearchCV() can be faster when lots of Grid options\n",
    "tree_CV.fit(x_train, y_train)\n",
    "\n",
    "# Show the selected parameters\n",
    "print(tree_CV.best_params_)\n",
    "print(tree_CV.best_score_)\n",
    "\n",
    "# Surprise for no need of balancing data and based on entropy minimizaion, we only need trees go maximum 6 levels\n",
    "# Using 10 and 50 trees came back with the same recommendations"
   ]
  },
  {
   "cell_type": "code",
   "execution_count": 69,
   "metadata": {},
   "outputs": [],
   "source": [
    "# Takes long time for grid search, manually enter the optimized parameters from above\n",
    "\n",
    "forest_model = RandomForestClassifier(n_estimators=10, random_state=2, max_depth=13, criterion='entropy')\n",
    "\n",
    "forest_model_fitted=forest_model.fit(x_train, y_train)"
   ]
  },
  {
   "cell_type": "code",
   "execution_count": 115,
   "metadata": {},
   "outputs": [
    {
     "name": "stdout",
     "output_type": "stream",
     "text": [
      "   Name      Score\n",
      "14  V14   0.227161\n",
      "17  V17   0.183637\n",
      "3    V3   0.102311\n",
      "12  V12  0.0983151\n",
      "4    V4   0.063125\n"
     ]
    }
   ],
   "source": [
    "# Side Note - Feature importances - top influential features:\n",
    "score=forest_model_fitted.feature_importances_\n",
    "name=list(creditcard)\n",
    "name_array=np.asarray(name)\n",
    "combine=pd.DataFrame([name_array, score]).T\n",
    "combine.columns=('Name', 'Score')\n",
    "\n",
    "print(combine.sort_values('Score', ascending=0).head())"
   ]
  },
  {
   "cell_type": "code",
   "execution_count": null,
   "metadata": {},
   "outputs": [],
   "source": []
  },
  {
   "cell_type": "code",
   "execution_count": 48,
   "metadata": {},
   "outputs": [],
   "source": [
    "forest_predict=forest_model.predict(x_test)"
   ]
  },
  {
   "cell_type": "code",
   "execution_count": 119,
   "metadata": {},
   "outputs": [
    {
     "name": "stdout",
     "output_type": "stream",
     "text": [
      "Confusion matrix Random Forest:\n",
      "[[99506     5]\n",
      " [   36   136]]\n"
     ]
    }
   ],
   "source": [
    "#1. Draw confusion matrix for analysis based on test data\n",
    "#   Confusion matrix straitforwardedly tells how many are accurately classified and how many are not\n",
    "\n",
    "confusion= confusion_matrix(y_test, forest_predict) # Unbalanced data\n",
    "print(\"Confusion matrix Random Forest:\\n{}\".format(confusion));"
   ]
  },
  {
   "cell_type": "code",
   "execution_count": 122,
   "metadata": {},
   "outputs": [],
   "source": [
    "# To better observe confustion matrix\n",
    "\n",
    "import itertools\n",
    "\n",
    "def plot_confusion_matrix(cm, classes,\n",
    "                          normalize=False,\n",
    "                          title='Confusion matrix',\n",
    "                          cmap=plt.cm.Blues):\n",
    "    \"\"\"\n",
    "    This function prints and plots the confusion matrix.\n",
    "    Normalization can be applied by setting `normalize=True`.\n",
    "    \"\"\"\n",
    "    plt.imshow(cm, interpolation='nearest', cmap=cmap)\n",
    "    plt.title(title)\n",
    "    plt.colorbar()\n",
    "    tick_marks = np.arange(len(classes))\n",
    "    plt.xticks(tick_marks, classes, rotation=0)\n",
    "    plt.yticks(tick_marks, classes)\n",
    "\n",
    "    if normalize:\n",
    "        cm = cm.astype('float') / cm.sum(axis=1)[:, np.newaxis]\n",
    "        #print(\"Normalized confusion matrix\")\n",
    "    else:\n",
    "        1#print('Confusion matrix, without normalization')\n",
    "\n",
    "    #print(cm)\n",
    "\n",
    "    thresh = cm.max() / 2.\n",
    "    for i, j in itertools.product(range(cm.shape[0]), range(cm.shape[1])):\n",
    "        plt.text(j, i, cm[i, j],\n",
    "                 horizontalalignment=\"center\",\n",
    "                 color=\"white\" if cm[i, j] > thresh else \"black\")\n",
    "\n",
    "    plt.tight_layout()\n",
    "    plt.ylabel('True label')\n",
    "    plt.xlabel('Predicted label')"
   ]
  },
  {
   "cell_type": "code",
   "execution_count": 126,
   "metadata": {},
   "outputs": [
    {
     "data": {
      "image/png": "[encoded data removed]",
      "text/plain": [
       "<Figure size 432x288 with 2 Axes>"
      ]
     },
     "metadata": {
      "needs_background": "light"
     },
     "output_type": "display_data"
    }
   ],
   "source": [
    "class_names = [0,1]\n",
    "plt.figure()\n",
    "plot_confusion_matrix(confusion, normalize=False , classes=class_names, title='Confusion matrix')\n",
    "plt.show()"
   ]
  },
  {
   "cell_type": "code",
   "execution_count": null,
   "metadata": {},
   "outputs": [],
   "source": []
  },
  {
   "cell_type": "code",
   "execution_count": 131,
   "metadata": {
    "scrolled": true
   },
   "outputs": [
    {
     "name": "stdout",
     "output_type": "stream",
     "text": [
      "Normalized Confusion matrix with unbalanced training data:\n",
      "[[1.   0.  ]\n",
      " [0.21 0.79]]\n"
     ]
    }
   ],
   "source": [
    "#2. Draw normalized confusion matrix based test data \n",
    "   # Build normalization matrix using the counts in test data for each category\n",
    "    norm_matrix=np.array([[1/y_test_legit, 1/y_test_legit], [1/y_test_fraud, 1/y_test_fraud]])\n",
    "    \n",
    "    # normalize the unbalanced regular confusion matrix， each row sums up to 1\n",
    "    confusion_norm = np.around(confusion*norm_matrix, 2)\n",
    "    print(\"Normalized Confusion matrix with unbalanced training data:\\n{}\".format(confusion_norm ))\n",
    "    "
   ]
  },
  {
   "cell_type": "code",
   "execution_count": 132,
   "metadata": {},
   "outputs": [
    {
     "data": {
      "image/png": "[encoded data removed]",
      "text/plain": [
       "<Figure size 432x288 with 2 Axes>"
      ]
     },
     "metadata": {
      "needs_background": "light"
     },
     "output_type": "display_data"
    }
   ],
   "source": [
    "class_names = [0,1]\n",
    "plt.figure()\n",
    "plot_confusion_matrix(confusion_norm, normalize=False , classes=class_names, title='Confusion matrix')\n",
    "plt.show()"
   ]
  },
  {
   "cell_type": "code",
   "execution_count": null,
   "metadata": {},
   "outputs": [],
   "source": []
  },
  {
   "cell_type": "code",
   "execution_count": 50,
   "metadata": {},
   "outputs": [
    {
     "name": "stdout",
     "output_type": "stream",
     "text": [
      "Cross Validation using unbalanced data：\n",
      "[0.99956786 0.99954085 0.99956786 0.99935179 0.99954084]\n",
      "Averaged Cross Validation score:\n",
      "0.9995138395183707\n",
      "Test Accuracy score:\n",
      "0.9995886961668489\n",
      "Test F1 score:\n",
      "0.8690095846645367\n"
     ]
    }
   ],
   "source": [
    "# 3. Cross-validation score using training data and then using unseen test data for testing\n",
    "forest_CV=cross_val_score(forest_model, x_train, y_train, cv=5)\n",
    "print(\"Cross Validation using training data：\")\n",
    "print(forest_CV);\n",
    "print(\"Averaged Cross Validation score:\\n{}\".format(np.mean(forest_CV)));\n",
    "print(\"Test Accuracy score:\\n{}\".format(forest_model.score(x_test, y_test)))\n",
    "print(\"Test F1 score:\\n{}\".format(f1_score(y_test, forest_predict)))"
   ]
  },
  {
   "cell_type": "code",
   "execution_count": 52,
   "metadata": {},
   "outputs": [
    {
     "name": "stdout",
     "output_type": "stream",
     "text": [
      "Classification report with training data\n",
      "              precision    recall  f1-score   support\n",
      "\n",
      "           0       1.00      1.00      1.00     99511\n",
      "           1       0.96      0.79      0.87       172\n",
      "\n",
      "   micro avg       1.00      1.00      1.00     99683\n",
      "   macro avg       0.98      0.90      0.93     99683\n",
      "weighted avg       1.00      1.00      1.00     99683\n",
      "\n"
     ]
    }
   ],
   "source": [
    "# 4. Classificatoin report of the test data\n",
    "\n",
    "print(\"Classification report with training data\")\n",
    "print(classification_report(y_test, forest_predict))"
   ]
  },
  {
   "cell_type": "code",
   "execution_count": null,
   "metadata": {},
   "outputs": [],
   "source": []
  },
  {
   "cell_type": "code",
   "execution_count": 58,
   "metadata": {},
   "outputs": [
    {
     "name": "stdout",
     "output_type": "stream",
     "text": [
      "Average Precision:\n",
      "0.8370989510689221\n"
     ]
    },
    {
     "data": {
      "image/png": "[encoded data removed]",
      "text/plain": [
       "<Figure size 432x288 with 1 Axes>"
      ]
     },
     "metadata": {
      "needs_background": "light"
     },
     "output_type": "display_data"
    }
   ],
   "source": [
    "#5 Precision Recall Curve\n",
    "precision, recall, thresholds=precision_recall_curve(y_test, forest_model.predict_proba(x_test)[:,1])\n",
    "\n",
    "# Tree models have no decision_function() attribute, unlike in logistic regression we have both\n",
    "\n",
    "\n",
    "# find threshold closest to zero\n",
    "close_zero = np.argmin(np.abs(thresholds-0.5))\n",
    "\n",
    "\n",
    "plt.plot( recall[close_zero],precision[close_zero], 'o', markersize=10, label=\"threshold zero\", fillstyle=\"none\", c='k', mew=2)\n",
    "plt.plot(recall, precision, label=\"precision recall curve\")\n",
    "\n",
    "plt.ylabel(\"Precision\")\n",
    "plt.xlabel(\"Recall\")\n",
    "plt.legend(loc=\"best\")\n",
    "\n",
    "\n",
    "Average_Precision=average_precision_score(y_test, forest_model.predict_proba(x_test)[:,1])\n",
    "\n",
    "\n",
    "print(\"Average Precision:\\n{}\".format(Average_Precision));\n",
    "\n",
    "\n",
    "# The default threshold (Decision function=0 or Probabily=0.5 appears to be good)"
   ]
  },
  {
   "cell_type": "code",
   "execution_count": 65,
   "metadata": {},
   "outputs": [
    {
     "data": {
      "text/plain": [
       "Text(0.5, 0, 'Threashold')"
      ]
     },
     "execution_count": 65,
     "metadata": {},
     "output_type": "execute_result"
    },
    {
     "data": {
      "image/png": "[encoded data removed]",
      "text/plain": [
       "<Figure size 432x288 with 1 Axes>"
      ]
     },
     "metadata": {
      "needs_background": "light"
     },
     "output_type": "display_data"
    }
   ],
   "source": [
    "# 5.1 F1-Score under different Precision:\n",
    "\n",
    "# As an example: we can have a side by side view of Precision, Recall and F1-Score for each Threshold\n",
    "# SK-Learn made up a Precision=1, Recall=0 case to make the plot looks nice at the end point, in actual, this point doesn't\n",
    "#   exist. As one is zero, the other is zero too. Calculation takes off this artifical point so we can have thresholds added\n",
    "Information_Combine=[precision[:-1], recall[:-1], thresholds]\n",
    "Information_Combine_DF=pd.DataFrame(Information_Combine)\n",
    "Performance=Information_Combine_DF.T\n",
    "Performance.columns=['Precision', 'Recall', 'Threshold']\n",
    "\n",
    "Performance['F1-Score']=2*Performance['Precision']*Performance['Recall']/(Performance['Precision']+Performance['Recall'])\n",
    "plt.plot([0.5, 0.5], [0, 0.9], linestyle='--')\n",
    "plt.plot(Performance['Threshold'], Performance['F1-Score'])\n",
    "\n",
    "plt.ylabel(\"F1-Score\")\n",
    "plt.xlabel(\"Threashold\")\n",
    "\n",
    "# The threashold bringing the highest F1-Score is ok with default probability 0.5 (or 0.6)"
   ]
  },
  {
   "cell_type": "code",
   "execution_count": null,
   "metadata": {},
   "outputs": [],
   "source": []
  },
  {
   "cell_type": "code",
   "execution_count": 75,
   "metadata": {},
   "outputs": [
    {
     "name": "stdout",
     "output_type": "stream",
     "text": [
      "AUC score w Unbalanced data:\n",
      "0.9504425185669552\n"
     ]
    },
    {
     "data": {
      "image/png": "[encoded data removed]",
      "text/plain": [
       "<Figure size 432x288 with 1 Axes>"
      ]
     },
     "metadata": {
      "needs_background": "light"
     },
     "output_type": "display_data"
    }
   ],
   "source": [
    "#6. AUC curve and Score\n",
    "\n",
    "fpr, tpr, thresholds = roc_curve(y_test, forest_model.predict_proba(x_test)[:,1])\n",
    "plt.plot(fpr, tpr, label=\"ROC Curve w Unbalanced training data\")\n",
    "\n",
    "plt.xlabel(\"FPR\")\n",
    "plt.ylabel(\"TPR (recall)\")\n",
    "\n",
    "# find threshold closest to zero\n",
    "close_zero = np.argmin(np.abs(thresholds-0.5))\n",
    "\n",
    "\n",
    "plt.plot(fpr[close_zero], tpr[close_zero], 'o', markersize=10,\n",
    "label=\"threshold zero w Unbalanced training data\", fillstyle=\"none\", c='k', mew=2)\n",
    "\n",
    "plt.legend(loc=4)\n",
    "\n",
    "\n",
    "auc=roc_auc_score(y_test,  forest_model.predict_proba(x_test)[:,1])\n",
    "\n",
    "\n",
    "print(\"AUC score w Unbalanced data:\\n{}\".format(auc))\n"
   ]
  },
  {
   "cell_type": "code",
   "execution_count": 109,
   "metadata": {},
   "outputs": [
    {
     "data": {
      "text/plain": [
       "Text(0, 0.5, 'True probability with Test data')"
      ]
     },
     "execution_count": 109,
     "metadata": {},
     "output_type": "execute_result"
    },
    {
     "data": {
      "image/png": "[encoded data removed]",
      "text/plain": [
       "<Figure size 432x288 with 1 Axes>"
      ]
     },
     "metadata": {
      "needs_background": "light"
     },
     "output_type": "display_data"
    }
   ],
   "source": [
    "#7. Calibration Curve/ Reliability Diagram\n",
    "\n",
    "# Test set predicted probabily\n",
    "probs=forest_model_fitted.predict_proba(x_test)[:,1] # Probility Estimate\n",
    "prob_true, prob_pred=calibration_curve(y_test, probs, n_bins=10, normalize=True)\n",
    "\n",
    "\n",
    "# plot perfectly calibrated\n",
    "plt.plot([0, 1], [0, 1], linestyle='--')\n",
    "# plot calibrated reliability\n",
    "plt.plot(prob_pred, prob_true, marker='.')\n",
    "\n",
    "\n",
    "plt.xlabel(\"Predicted Probability with Test data\")\n",
    "plt.ylabel(\"True probability with Test data\")\n",
    "\n",
    "\n",
    "# the plot shows model appears to be fairly calibrated"
   ]
  },
  {
   "cell_type": "code",
   "execution_count": null,
   "metadata": {},
   "outputs": [],
   "source": []
  },
  {
   "cell_type": "markdown",
   "metadata": {},
   "source": [
    "## #8.Fit and improve the model with Calibrated prediction"
   ]
  },
  {
   "cell_type": "code",
   "execution_count": 110,
   "metadata": {},
   "outputs": [
    {
     "data": {
      "text/plain": [
       "[<matplotlib.lines.Line2D at 0x18980a441d0>]"
      ]
     },
     "execution_count": 110,
     "metadata": {},
     "output_type": "execute_result"
    },
    {
     "data": {
      "image/png": "[encoded data removed]",
      "text/plain": [
       "<Figure size 432x288 with 1 Axes>"
      ]
     },
     "metadata": {
      "needs_background": "light"
     },
     "output_type": "display_data"
    }
   ],
   "source": [
    "# Calibration classifier/model, built in additional to other models.\n",
    "# With this class, the base_estimator is fit on the train set of the cross-validation generator and \n",
    "#      the test set is used for calibration. The probabilities for each of the folds are then averaged for prediction.\n",
    "\n",
    "calibrated=CalibratedClassifierCV(forest_model, method='isotonic', cv=5) \n",
    "calibrated.fit(x_train, y_train) # fit calibration model\n",
    "\n",
    "probs_Ca = calibrated.predict_proba(x_test)[:, 1]\n",
    "\n",
    "\n",
    "prob_true_Ca, prob_pred_Ca=calibration_curve(y_test, probs_Ca, n_bins=10, normalize=True)\n",
    "\n",
    "\n",
    "# plot perfectly calibrated- the diagnal\n",
    "plt.plot([0, 1], [0, 1], linestyle='--')  # graph 1\n",
    "# plot calibrated reliability\n",
    "plt.plot(prob_pred_Ca, prob_true_Ca, marker='.', color='green') # graph 2\n",
    "\n",
    "# Calibrated cross-validation didn't improve test set calibration, though it found me a model with best calibration \n",
    "#     based on the train/validation set."
   ]
  },
  {
   "cell_type": "code",
   "execution_count": 94,
   "metadata": {},
   "outputs": [
    {
     "name": "stdout",
     "output_type": "stream",
     "text": [
      "Classification report with uncalibrated model\n",
      "              precision    recall  f1-score   support\n",
      "\n",
      "           0       1.00      1.00      1.00     99511\n",
      "           1       0.96      0.79      0.87       172\n",
      "\n",
      "   micro avg       1.00      1.00      1.00     99683\n",
      "   macro avg       0.98      0.90      0.93     99683\n",
      "weighted avg       1.00      1.00      1.00     99683\n",
      "\n",
      "\n",
      "Classification report with calibrated model\n",
      "              precision    recall  f1-score   support\n",
      "\n",
      "           0       1.00      1.00      1.00     99511\n",
      "           1       0.93      0.80      0.86       172\n",
      "\n",
      "   micro avg       1.00      1.00      1.00     99683\n",
      "   macro avg       0.97      0.90      0.93     99683\n",
      "weighted avg       1.00      1.00      1.00     99683\n",
      "\n"
     ]
    }
   ],
   "source": [
    "\n",
    "print(\"Classification report with uncalibrated model\")\n",
    "print(classification_report(y_test, forest_predict))\n",
    "\n",
    "print(\"\")\n",
    "\n",
    "print(\"Classification report with calibrated model\")\n",
    "calibrated_predict=calibrated.fit(x_train, y_train).predict(x_test)\n",
    "print(classification_report(y_test, calibrated_predict))\n",
    "\n",
    "# Results are very similar before and after calibration"
   ]
  },
  {
   "cell_type": "code",
   "execution_count": 98,
   "metadata": {},
   "outputs": [
    {
     "data": {
      "text/plain": [
       "<matplotlib.legend.Legend at 0x18980888f28>"
      ]
     },
     "execution_count": 98,
     "metadata": {},
     "output_type": "execute_result"
    },
    {
     "data": {
      "image/png": "[encoded data removed]",
      "text/plain": [
       "<Figure size 432x288 with 1 Axes>"
      ]
     },
     "metadata": {
      "needs_background": "light"
     },
     "output_type": "display_data"
    }
   ],
   "source": [
    "precision_Ca, recall_Ca, thresholds_Ca=precision_recall_curve(y_test, calibrated.predict_proba(x_test)[:, 1])\n",
    "\n",
    "plt.plot(recall_Ca, precision_Ca, label=\"precision recall curve calibrated\")\n",
    "plt.plot(recall, precision, label=\"precision recall curve Uncalibrated\")\n",
    "\n",
    "plt.xlabel(\"Recall\")\n",
    "plt.ylabel(\"Precision\")\n",
    "plt.legend(loc='best')\n",
    "\n"
   ]
  },
  {
   "cell_type": "code",
   "execution_count": 108,
   "metadata": {},
   "outputs": [
    {
     "name": "stdout",
     "output_type": "stream",
     "text": [
      "AUC score w Calibrated data:\n",
      "0.9788890932473749\n",
      "AUC score w Uncalibrated data:\n",
      "0.9504425185669552\n"
     ]
    },
    {
     "data": {
      "image/png": "[encoded data removed]",
      "text/plain": [
       "<Figure size 432x288 with 1 Axes>"
      ]
     },
     "metadata": {
      "needs_background": "light"
     },
     "output_type": "display_data"
    }
   ],
   "source": [
    "# ROC Curve\n",
    "\n",
    "fpr_Ca, tpr_Ca, thresholds_Ca = roc_curve(y_test, calibrated.predict_proba(x_test)[:, 1])\n",
    "plt.plot(fpr_Ca, tpr_Ca, label=\"ROC Curve w Calibrated training data\")\n",
    "\n",
    "plt.plot(fpr, tpr, label=\"ROC Curve w Calibrated training data\")\n",
    "\n",
    "\n",
    "plt.xlabel(\"False Positive Rate (specificity)\")\n",
    "plt.ylabel(\"True Positive Rate (recall, sensitivity)\")\n",
    "\n",
    "plt.legend()\n",
    "\n",
    "\n",
    "auc_Ca=roc_auc_score(y_test,  calibrated.predict_proba(x_test)[:, 1])\n",
    "auc=roc_auc_score(y_test,  forest_model.predict_proba(x_test)[:,1])\n",
    "\n",
    "print(\"AUC score w Calibrated data:\\n{}\".format(auc_Ca))\n",
    "print(\"AUC score w Uncalibrated data:\\n{}\".format(auc))"
   ]
  },
  {
   "cell_type": "code",
   "execution_count": null,
   "metadata": {},
   "outputs": [],
   "source": []
  },
  {
   "cell_type": "markdown",
   "metadata": {},
   "source": [
    "Conclusion:\n",
    "\n",
    "In our randome forest model, \n",
    "1. Grid-search Cross-Validation chose to use unbalanced training data and minimize entropy to come up a model with highest f1-score.\n",
    "2. Calibrated model didn't improve calibration over test data\n",
    "3. However, Calibrated model does bring better model performance by observing ROC curve and Precision-Recall curve\n",
    "\n",
    "Therefore, we will choose calibration to improve our Random Forest model performance"
   ]
  }
 ],
 "metadata": {
  "kernelspec": {
   "display_name": "Python 3",
   "language": "python",
   "name": "python3"
  },
  "language_info": {
   "codemirror_mode": {
    "name": "ipython",
    "version": 3
   },
   "file_extension": ".py",
   "mimetype": "text/x-python",
   "name": "python",
   "nbconvert_exporter": "python",
   "pygments_lexer": "ipython3",
   "version": "3.6.7"
  }
 },
 "nbformat": 4,
 "nbformat_minor": 2
}
